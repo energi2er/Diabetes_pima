{
 "cells": [
  {
   "cell_type": "code",
   "execution_count": null,
   "metadata": {},
   "outputs": [],
   "source": [
    "import os \n",
    "import pandas as pd\n",
    "import pandas as pd\n",
    "\n",
    "# Load the dataset\n",
    "diabetes_df = pd.read_csv('diabetes.csv')\n",
    "\n",
    "import pandas as pd\n",
    "from sklearn.impute import SimpleImputer\n",
    "from sklearn.preprocessing import StandardScaler\n",
    "import itertools\n",
    "import seaborn as sns\n",
    "import matplotlib.pyplot as plt"
   ]
  },
  {
   "cell_type": "code",
   "execution_count": null,
   "metadata": {},
   "outputs": [],
   "source": [
    "X = diabetes_df.drop('Outcome', axis=1)  # Features\n",
    "y = diabetes_df['Outcome']  # Target variable\n"
   ]
  },
  {
   "cell_type": "code",
   "execution_count": null,
   "metadata": {},
   "outputs": [],
   "source": [
    "from sklearn.model_selection import train_test_split\n",
    "\n",
    "X_train, X_test, y_train, y_test = train_test_split(X, y, test_size=0.2, random_state=42)\n"
   ]
  },
  {
   "cell_type": "code",
   "execution_count": null,
   "metadata": {},
   "outputs": [],
   "source": [
    "print(\"X_train shape:\", X_train.shape)\n",
    "print(\"X_test shape:\", X_test.shape)\n",
    "print(\"y_train shape:\", y_train.shape)\n",
    "print(\"y_test shape:\", y_test.shape)\n",
    "\n"
   ]
  },
  {
   "cell_type": "code",
   "execution_count": 21,
   "metadata": {},
   "outputs": [],
   "source": [
    "from sklearn.feature_selection import SelectKBest, f_classif\n",
    "\n",
    "# Select the top k features based on ANOVA F-value\n",
    "k = 8  # Number of top features to select\n",
    "selector = SelectKBest(score_func=f_classif, k=k)\n",
    "X_train_selected = selector.fit_transform(X_train, y_train)\n"
   ]
  },
  {
   "cell_type": "code",
   "execution_count": 22,
   "metadata": {},
   "outputs": [
    {
     "name": "stdout",
     "output_type": "stream",
     "text": [
      "(614, 8)\n"
     ]
    }
   ],
   "source": [
    "print(X_train_selected.shape)"
   ]
  },
  {
   "cell_type": "code",
   "execution_count": 26,
   "metadata": {},
   "outputs": [
    {
     "name": "stdout",
     "output_type": "stream",
     "text": [
      "(614, 64)\n",
      "(614, 8)\n",
      "Empty DataFrame\n",
      "Columns: [Pregnancies, Glucose, BloodPressure, SkinThickness, Insulin, BMI, DiabetesPedigreeFunction, Age, Pregnancies_plus_Glucose, Pregnancies_times_Glucose, Pregnancies_plus_BloodPressure, Pregnancies_times_BloodPressure, Pregnancies_plus_SkinThickness, Pregnancies_times_SkinThickness, Pregnancies_plus_Insulin, Pregnancies_times_Insulin, Pregnancies_plus_BMI, Pregnancies_times_BMI, Pregnancies_plus_DiabetesPedigreeFunction, Pregnancies_times_DiabetesPedigreeFunction, Pregnancies_plus_Age, Pregnancies_times_Age, Glucose_plus_BloodPressure, Glucose_times_BloodPressure, Glucose_plus_SkinThickness, Glucose_times_SkinThickness, Glucose_plus_Insulin, Glucose_times_Insulin, Glucose_plus_BMI, Glucose_times_BMI, Glucose_plus_DiabetesPedigreeFunction, Glucose_times_DiabetesPedigreeFunction, Glucose_plus_Age, Glucose_times_Age, BloodPressure_plus_SkinThickness, BloodPressure_times_SkinThickness, BloodPressure_plus_Insulin, BloodPressure_times_Insulin, BloodPressure_plus_BMI, BloodPressure_times_BMI, BloodPressure_plus_DiabetesPedigreeFunction, BloodPressure_times_DiabetesPedigreeFunction, BloodPressure_plus_Age, BloodPressure_times_Age, SkinThickness_plus_Insulin, SkinThickness_times_Insulin, SkinThickness_plus_BMI, SkinThickness_times_BMI, SkinThickness_plus_DiabetesPedigreeFunction, SkinThickness_times_DiabetesPedigreeFunction, SkinThickness_plus_Age, SkinThickness_times_Age, Insulin_plus_BMI, Insulin_times_BMI, Insulin_plus_DiabetesPedigreeFunction, Insulin_times_DiabetesPedigreeFunction, Insulin_plus_Age, Insulin_times_Age, BMI_plus_DiabetesPedigreeFunction, BMI_times_DiabetesPedigreeFunction, BMI_plus_Age, BMI_times_Age, DiabetesPedigreeFunction_plus_Age, DiabetesPedigreeFunction_times_Age]\n",
      "Index: []\n",
      "\n",
      "[0 rows x 64 columns]\n"
     ]
    }
   ],
   "source": [
    "from sklearn.feature_selection import SelectKBest, f_classif\n",
    "import pandas as pd\n",
    "\n",
    "# Assuming you have X_train and y_train datasets already defined\n",
    "\n",
    "# Select the top k features based on ANOVA F-value\n",
    "k = 8  # Number of top features to select\n",
    "selector = SelectKBest(score_func=f_classif, k=k)\n",
    "\n",
    "# Fit the selector to the training data\n",
    "X_train_selected = selector.fit_transform(X_train, y_train)\n",
    "\n",
    "# Get the indices of the selected features\n",
    "selected_feature_indices = selector.get_support(indices=True)\n",
    "\n",
    "# Get the names of the selected features\n",
    "selected_feature_names = X_train.columns[selected_feature_indices]\n",
    "\n",
    "# Create new features from the selected features\n",
    "X_train_Extended = pd.DataFrame(X_train_selected, columns=selected_feature_names)\n",
    "\n",
    "# Create new features by performing operations on selected features\n",
    "# For example, you can create new features by summing or multiplying selected features\n",
    "# Here's an example of creating new features by summing and multiplying selected features\n",
    "for i in range(len(selected_feature_names)):\n",
    "    for j in range(i+1, len(selected_feature_names)):\n",
    "        feature1 = selected_feature_names[i]\n",
    "        feature2 = selected_feature_names[j]\n",
    "        # Create new feature by summing selected features\n",
    "        X_train_Extended[f'{feature1}_plus_{feature2}'] = X_train_Extended[feature1] + X_train_Extended[feature2]\n",
    "        # Create new feature by multiplying selected features\n",
    "        X_train_Extended[f'{feature1}_times_{feature2}'] = X_train_Extended[feature1] * X_train_Extended[feature2]\n",
    "\n",
    "# Print the new extended dataset\n",
    "print(X_train_Extended.shape) \n",
    "print(X_train_selected.shape)       \n",
    "print(X_train_Extended.head(0))\n"
   ]
  }
 ],
 "metadata": {
  "kernelspec": {
   "display_name": "Python 3",
   "language": "python",
   "name": "python3"
  },
  "language_info": {
   "codemirror_mode": {
    "name": "ipython",
    "version": 3
   },
   "file_extension": ".py",
   "mimetype": "text/x-python",
   "name": "python",
   "nbconvert_exporter": "python",
   "pygments_lexer": "ipython3",
   "version": "3.10.12"
  }
 },
 "nbformat": 4,
 "nbformat_minor": 2
}
