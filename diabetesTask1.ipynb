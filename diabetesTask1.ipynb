{
 "cells": [
  {
   "cell_type": "code",
   "execution_count": 21,
   "metadata": {},
   "outputs": [],
   "source": [
    "import pandas as pd\n"
   ]
  },
  {
   "cell_type": "code",
   "execution_count": 22,
   "metadata": {},
   "outputs": [],
   "source": [
    "data = pd.read_csv('diabetes.csv')"
   ]
  },
  {
   "cell_type": "markdown",
   "metadata": {},
   "source": [
    "write a code in python to do this tasks for this dataset:\n",
    "1- show the first row as the headers\n",
    "2- check the dataset for null values\n",
    "3- check the dataset for type of values and show the values type by type and colomun and number of it\n",
    "4- drop the whole row of any null values"
   ]
  },
  {
   "cell_type": "code",
   "execution_count": 23,
   "metadata": {},
   "outputs": [
    {
     "name": "stdout",
     "output_type": "stream",
     "text": [
      "1. First row as headers:\n",
      "   Pregnancies  Glucose  BloodPressure  SkinThickness  Insulin   BMI  \\\n",
      "0            6      148             72             35        0  33.6   \n",
      "\n",
      "   DiabetesPedigreeFunction  Age  Outcome  \n",
      "0                     0.627   50        1  \n",
      "\n",
      "2. Null values in the dataset:\n",
      "Pregnancies                 0\n",
      "Glucose                     0\n",
      "BloodPressure               0\n",
      "SkinThickness               0\n",
      "Insulin                     0\n",
      "BMI                         0\n",
      "DiabetesPedigreeFunction    0\n",
      "Age                         0\n",
      "Outcome                     0\n",
      "dtype: int64\n",
      "\n",
      "3. Types of values in the dataset:\n",
      "Pregnancies: int64 - 17 unique values\n",
      "Glucose: int64 - 136 unique values\n",
      "BloodPressure: int64 - 47 unique values\n",
      "SkinThickness: int64 - 51 unique values\n",
      "Insulin: int64 - 186 unique values\n",
      "BMI: float64 - 248 unique values\n",
      "DiabetesPedigreeFunction: float64 - 517 unique values\n",
      "Age: int64 - 52 unique values\n",
      "Outcome: int64 - 2 unique values\n",
      "\n",
      "4. Dataset after dropping rows with null values:\n",
      "   Pregnancies  Glucose  BloodPressure  SkinThickness  Insulin   BMI  \\\n",
      "0            6      148             72             35        0  33.6   \n",
      "1            1       85             66             29        0  26.6   \n",
      "2            8      183             64              0        0  23.3   \n",
      "3            1       89             66             23       94  28.1   \n",
      "4            0      137             40             35      168  43.1   \n",
      "\n",
      "   DiabetesPedigreeFunction  Age  Outcome  \n",
      "0                     0.627   50        1  \n",
      "1                     0.351   31        0  \n",
      "2                     0.672   32        1  \n",
      "3                     0.167   21        0  \n",
      "4                     2.288   33        1  \n",
      "<class 'pandas.core.frame.DataFrame'>\n",
      "RangeIndex: 768 entries, 0 to 767\n",
      "Data columns (total 9 columns):\n",
      " #   Column                    Non-Null Count  Dtype  \n",
      "---  ------                    --------------  -----  \n",
      " 0   Pregnancies               768 non-null    int64  \n",
      " 1   Glucose                   768 non-null    int64  \n",
      " 2   BloodPressure             768 non-null    int64  \n",
      " 3   SkinThickness             768 non-null    int64  \n",
      " 4   Insulin                   768 non-null    int64  \n",
      " 5   BMI                       768 non-null    float64\n",
      " 6   DiabetesPedigreeFunction  768 non-null    float64\n",
      " 7   Age                       768 non-null    int64  \n",
      " 8   Outcome                   768 non-null    int64  \n",
      "dtypes: float64(2), int64(7)\n",
      "memory usage: 54.1 KB\n"
     ]
    }
   ],
   "source": [
    "data = pd.read_csv('diabetes.csv', header=0)\n",
    "\n",
    "# 1. Show the first row as headers\n",
    "print(\"1. First row as headers:\")\n",
    "print(data.head(1))\n",
    "\n",
    "# 2. Check the dataset for null values\n",
    "print(\"\\n2. Null values in the dataset:\")\n",
    "print(data.isnull().sum())\n",
    "\n",
    "# 3. Check the dataset for type of values and show the values type by type and column and number of it\n",
    "print(\"\\n3. Types of values in the dataset:\")\n",
    "types = data.dtypes\n",
    "for column, dtype in types.items():\n",
    "    print(f\"{column}: {dtype} - {data[column].nunique()} unique values\")\n",
    "\n",
    "# 4. Drop the whole row of any null values\n",
    "data.dropna(inplace=True)\n",
    "print(\"\\n4. Dataset after dropping rows with null values:\")\n",
    "print(data.head(5))\n",
    "data.info()\n"
   ]
  }
 ],
 "metadata": {
  "kernelspec": {
   "display_name": "Python 3",
   "language": "python",
   "name": "python3"
  },
  "language_info": {
   "codemirror_mode": {
    "name": "ipython",
    "version": 3
   },
   "file_extension": ".py",
   "mimetype": "text/x-python",
   "name": "python",
   "nbconvert_exporter": "python",
   "pygments_lexer": "ipython3",
   "version": "3.10.12"
  }
 },
 "nbformat": 4,
 "nbformat_minor": 2
}
